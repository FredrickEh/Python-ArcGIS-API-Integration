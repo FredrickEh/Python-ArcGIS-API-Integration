{
 "cells": [
  {
   "cell_type": "code",
   "execution_count": 1,
   "id": "49128bbf",
   "metadata": {},
   "outputs": [
    {
     "name": "stderr",
     "output_type": "stream",
     "text": [
      "Setting `verify_cert` to False is a security risk, use at your own risk.\n"
     ]
    },
    {
     "name": "stdout",
     "output_type": "stream",
     "text": [
      "Please sign in to your GIS and paste the code that is obtained below.\n",
      "If a web browser does not automatically open, please navigate to the URL below yourself instead.\n",
      "Opening web browser to navigate to: https://utoronto.maps.arcgis.com/sharing/rest/oauth2/authorize?response_type=code&client_id=ghC945sKoVNo6Xn4&redirect_uri=urn%3Aietf%3Awg%3Aoauth%3A2.0%3Aoob&state=aWnOjRuD5Hf7LkQKnwR4VRF6i0Xqe1&allow_verification=false\n",
      "Enter code obtained on signing in using SAML: ········\n",
      "Successfully logged in as: ehichio1_utoronto\n"
     ]
    }
   ],
   "source": [
    "from arcgis.gis import GIS\n",
    "gis = GIS(\"https://utoronto.maps.arcgis.com\",client_id=\"ghC945sKoVNo6Xn4\",verify_cert=False)\n",
    "print(\"Successfully logged in as: \" + gis.properties.user.username)"
   ]
  },
  {
   "cell_type": "code",
   "execution_count": 2,
   "id": "7b09b721",
   "metadata": {},
   "outputs": [],
   "source": [
    "gis?"
   ]
  },
  {
   "cell_type": "code",
   "execution_count": 3,
   "id": "c5cef871",
   "metadata": {},
   "outputs": [
    {
     "data": {
      "text/plain": [
       "<arcgis.gis.ContentManager at 0x1f76ab33580>"
      ]
     },
     "execution_count": 3,
     "metadata": {},
     "output_type": "execute_result"
    }
   ],
   "source": [
    "gis.content"
   ]
  },
  {
   "cell_type": "code",
   "execution_count": 4,
   "id": "186d202d",
   "metadata": {},
   "outputs": [
    {
     "data": {
      "application/vnd.jupyter.widget-view+json": {
       "model_id": "acbba40b08fa4ee28046c7da4f5306fc",
       "version_major": 2,
       "version_minor": 0
      },
      "text/plain": [
       "MapView(layout=Layout(height='400px', width='100%'))"
      ]
     },
     "metadata": {},
     "output_type": "display_data"
    },
    {
     "data": {
      "text/html": [
       "<div class=\"map-static-img-preview-cf4898e1-a6c4-48ee-adfc-90d898b671f5\"><img src=\"\"></img></div>"
      ],
      "text/plain": [
       "<IPython.core.display.HTML object>"
      ]
     },
     "metadata": {},
     "output_type": "display_data"
    },
    {
     "data": {
      "text/html": [
       "<div class=\"map-html-embed-preview-cf4898e1-a6c4-48ee-adfc-90d898b671f5\"></div>"
      ],
      "text/plain": [
       "<IPython.core.display.HTML object>"
      ]
     },
     "metadata": {},
     "output_type": "display_data"
    }
   ],
   "source": [
    "gis.map(\"University of Toronto\")"
   ]
  },
  {
   "cell_type": "code",
   "execution_count": 5,
   "id": "39e8c174",
   "metadata": {},
   "outputs": [],
   "source": [
    "toronto_map = gis.map('university of toronto')"
   ]
  },
  {
   "cell_type": "code",
   "execution_count": 6,
   "id": "9746c139",
   "metadata": {},
   "outputs": [
    {
     "data": {
      "application/vnd.jupyter.widget-view+json": {
       "model_id": "57264e5582064661936dbc658b2d687c",
       "version_major": 2,
       "version_minor": 0
      },
      "text/plain": [
       "MapView(layout=Layout(height='400px', width='100%'))"
      ]
     },
     "metadata": {},
     "output_type": "display_data"
    },
    {
     "data": {
      "text/html": [
       "<div class=\"map-static-img-preview-77a9aed3-0699-41da-bbf0-f1f453e8eec9\"><img src=\"\"></img></div>"
      ],
      "text/plain": [
       "<IPython.core.display.HTML object>"
      ]
     },
     "metadata": {},
     "output_type": "display_data"
    },
    {
     "data": {
      "text/html": [
       "<div class=\"map-html-embed-preview-77a9aed3-0699-41da-bbf0-f1f453e8eec9\"></div>"
      ],
      "text/plain": [
       "<IPython.core.display.HTML object>"
      ]
     },
     "metadata": {},
     "output_type": "display_data"
    }
   ],
   "source": [
    "toronto_map.zoom\n",
    "toronto_map.rotation * 17.5\n",
    "toronto_map"
   ]
  },
  {
   "cell_type": "code",
   "execution_count": 7,
   "id": "d5f561ea",
   "metadata": {},
   "outputs": [
    {
     "data": {
      "text/plain": [
       "{'spatialReference': {'latestWkid': 3857, 'wkid': 102100},\n",
       " 'xmin': -8842750.101551365,\n",
       " 'ymin': 5411526.342211571,\n",
       " 'xmax': -8833348.3470723,\n",
       " 'ymax': 5415348.1936258245}"
      ]
     },
     "execution_count": 7,
     "metadata": {},
     "output_type": "execute_result"
    }
   ],
   "source": [
    "toronto_map.basemap \n",
    "toronto_map.extent"
   ]
  },
  {
   "cell_type": "code",
   "execution_count": 8,
   "id": "d675f6f5",
   "metadata": {},
   "outputs": [
    {
     "data": {
      "application/vnd.jupyter.widget-view+json": {
       "model_id": "57264e5582064661936dbc658b2d687c",
       "version_major": 2,
       "version_minor": 0
      },
      "text/plain": [
       "MapView(jupyter_target='notebook', layout=Layout(height='400px', width='100%'), mode='3D', ready=True)"
      ]
     },
     "metadata": {},
     "output_type": "display_data"
    },
    {
     "data": {
      "text/html": [
       "<div class=\"map-static-img-preview-77a9aed3-0699-41da-bbf0-f1f453e8eec9\"><img src=\"\"></img></div>"
      ],
      "text/plain": [
       "<IPython.core.display.HTML object>"
      ]
     },
     "metadata": {},
     "output_type": "display_data"
    },
    {
     "data": {
      "text/html": [
       "<div class=\"map-html-embed-preview-77a9aed3-0699-41da-bbf0-f1f453e8eec9\"></div>"
      ],
      "text/plain": [
       "<IPython.core.display.HTML object>"
      ]
     },
     "metadata": {},
     "output_type": "display_data"
    }
   ],
   "source": [
    "toronto_map.basemap =  ('satellite')\n",
    "toronto_map.mode = \"3D\"\n",
    "toronto_map.zoom = 2\n",
    "toronto_map.tilt = 4\n",
    "toronto_map.heading = 5\n",
    "toronto_map"
   ]
  },
  {
   "cell_type": "code",
   "execution_count": 9,
   "id": "eddb622c",
   "metadata": {},
   "outputs": [
    {
     "name": "stdout",
     "output_type": "stream",
     "text": [
      "<Item title:\"Nearest_FarmersMarkets_to_Farm_MLisotti_June_3_2021\" type:Feature Layer Collection owner:lisottim_utoronto>\n",
      "<Item title:\"Turbine_5_Mile_Zone_(zm)\" type:Feature Layer Collection owner:malikz15_utoronto>\n",
      "<Item title:\"Glacier_National_Park_Fires ZA\" type:Feature Layer Collection owner:aozheng_utoronto>\n",
      "<Item title:\"Hot_Spots_Max_sediment_thickness_in_Km\" type:Feature Layer Collection owner:ryjoukkr_utoronto>\n",
      "<Item title:\"NovaScotia_places_caiyuxi1\" type:Feature Layer Collection owner:caiyuxi1_utoronto>\n",
      "<Item title:\"Nearest_Farmers_Markets_to_Farm_NC\" type:Feature Layer Collection owner:peter245_utoronto>\n",
      "<Item title:\"Detroit_Demographics_Y_L\" type:Feature Layer Collection owner:linyihao_utoronto>\n",
      "<Item title:\"novascotia placesmaycockl\" type:Feature Layer Collection owner:maycockl_utoronto>\n",
      "<Item title:\"residential_renovation_points_chenxi_a5\" type:Feature Layer Collection owner:wangc188_utoronto>\n",
      "<Item title:\"BufUrbanAreas2Mi_MT\" type:Feature Layer Collection owner:teixei77_utoronto>\n"
     ]
    }
   ],
   "source": [
    "item = gis.content.search('', 'feature layer')\n",
    "for item in item:\n",
    "    print(item)"
   ]
  },
  {
   "cell_type": "code",
   "execution_count": 19,
   "id": "2b85abff",
   "metadata": {},
   "outputs": [
    {
     "name": "stdout",
     "output_type": "stream",
     "text": [
      "<Item title:\"Nigeria Covid-19 cases by state\" type:Feature Layer Collection owner:ehichio1_utoronto>\n",
      "a224e8\n"
     ]
    }
   ],
   "source": [
    "items = gis.content.search('owner:ehichio1_utoronto', 'feature layer')\n",
    "for item in items:\n",
    "    print(item)\n",
    "    for lyr in item.layers:\n",
    "        print(lyr.properties.name)"
   ]
  },
  {
   "cell_type": "code",
   "execution_count": 20,
   "id": "913c0d51",
   "metadata": {},
   "outputs": [
    {
     "data": {
      "application/vnd.jupyter.widget-view+json": {
       "model_id": "ce6bb45165d14a45bfadb0f56daca6a1",
       "version_major": 2,
       "version_minor": 0
      },
      "text/plain": [
       "MapView(layout=Layout(height='400px', width='100%'))"
      ]
     },
     "metadata": {},
     "output_type": "display_data"
    },
    {
     "data": {
      "text/html": [
       "<div class=\"map-static-img-preview-abb2c7d8-23d4-46ca-8d48-fbd832935f16\"><img src=\"\"></img></div>"
      ],
      "text/plain": [
       "<IPython.core.display.HTML object>"
      ]
     },
     "metadata": {},
     "output_type": "display_data"
    },
    {
     "data": {
      "text/html": [
       "<div class=\"map-html-embed-preview-abb2c7d8-23d4-46ca-8d48-fbd832935f16\"></div>"
      ],
      "text/plain": [
       "<IPython.core.display.HTML object>"
      ]
     },
     "metadata": {},
     "output_type": "display_data"
    }
   ],
   "source": [
    "map1 = gis.map()\n",
    "map1.basemap =  ('streets')\n",
    "map1.mode = \"2D\"\n",
    "map1.zoom = 2\n",
    "map1.tilt = 4\n",
    "map1.heading = 5\n",
    "Nigerian_covid = items[0]\n",
    "map1.add_layer(Nigerian_covid)\n",
    "map1"
   ]
  },
  {
   "cell_type": "code",
   "execution_count": 160,
   "id": "a722b2fc",
   "metadata": {},
   "outputs": [
    {
     "data": {
      "application/vnd.jupyter.widget-view+json": {
       "model_id": "e7e428f011bb43d6a4dd04f185efe758",
       "version_major": 2,
       "version_minor": 0
      },
      "text/plain": [
       "MapView(layout=Layout(height='400px', width='100%'))"
      ]
     },
     "metadata": {},
     "output_type": "display_data"
    },
    {
     "data": {
      "text/html": [
       "<div class=\"map-static-img-preview-8aba7874-90e5-4fc1-ba9e-848f80d782c5\"><img src=\"\"></img></div>"
      ],
      "text/plain": [
       "<IPython.core.display.HTML object>"
      ]
     },
     "metadata": {},
     "output_type": "display_data"
    },
    {
     "data": {
      "text/html": [
       "<div class=\"map-html-embed-preview-8aba7874-90e5-4fc1-ba9e-848f80d782c5\"></div>"
      ],
      "text/plain": [
       "<IPython.core.display.HTML object>"
      ]
     },
     "metadata": {},
     "output_type": "display_data"
    }
   ],
   "source": [
    "map1 = gis.map()  # Reset the map widget\n",
    "\n",
    "crime_locations = items[2]  # Get the first item - the crimes in Toronto in 2018\n",
    "\n",
    "toronto_neighbourhoods = items[0]  # Get the second item - the Toronto neighbourhoods\n",
    "\n",
    "map1.add_layer(toronto_neighbourhoods)  # Add the neighbourhoods to the map\n",
    "\n",
    "university_location = items[1]  # Get the third item - the university location\n",
    "\n",
    "map1.add_layer(crime_locations)  # Add the crimes layer to the map\n",
    "\n",
    "map1.extent = toronto_neighbourhoods.extent  # Set the extent to be the spatial envelope of the neighbourhoods\n",
    "\n",
    "map1.add_layer(university_location)  # Add the university to the map\n",
    "\n",
    "map1"
   ]
  },
  {
   "cell_type": "code",
   "execution_count": 136,
   "id": "3a7dc3ad",
   "metadata": {},
   "outputs": [
    {
     "name": "stdout",
     "output_type": "stream",
     "text": [
      "FID\n",
      "Index_\n",
      "event_uniq\n",
      "occurrence\n",
      "reportedda\n",
      "premisetyp\n",
      "ucr_code\n",
      "ucr_ext\n",
      "offence\n",
      "reportedye\n",
      "reportedmo\n",
      "reported_1\n",
      "reported_2\n",
      "reported_3\n",
      "reportedho\n",
      "occurren_1\n",
      "occurren_2\n",
      "occurren_3\n",
      "occurren_4\n",
      "occurren_5\n",
      "occurren_6\n",
      "MCI\n",
      "Division\n",
      "Hood_ID\n",
      "Neighbourh\n",
      "Lat\n",
      "Long\n",
      "ObjectId\n",
      "Crimes\n"
     ]
    }
   ],
   "source": [
    "for field in crime_locations.layers[0].properties.fields:\n",
    "    print(field['name'])"
   ]
  },
  {
   "cell_type": "code",
   "execution_count": 137,
   "id": "1e93657e",
   "metadata": {},
   "outputs": [
    {
     "name": "stdout",
     "output_type": "stream",
     "text": [
      "esriGeometryPoint\n"
     ]
    }
   ],
   "source": [
    "crime_featurelayer = crime_locations.layers[0]\n",
    "crime_featureset = crime_featurelayer.query()\n",
    "print(crime_featureset.geometry_type)"
   ]
  },
  {
   "cell_type": "code",
   "execution_count": 138,
   "id": "e850ed6a",
   "metadata": {},
   "outputs": [
    {
     "data": {
      "text/html": [
       "<div>\n",
       "<style scoped>\n",
       "    .dataframe tbody tr th:only-of-type {\n",
       "        vertical-align: middle;\n",
       "    }\n",
       "\n",
       "    .dataframe tbody tr th {\n",
       "        vertical-align: top;\n",
       "    }\n",
       "\n",
       "    .dataframe thead th {\n",
       "        text-align: right;\n",
       "    }\n",
       "</style>\n",
       "<table border=\"1\" class=\"dataframe\">\n",
       "  <thead>\n",
       "    <tr style=\"text-align: right;\">\n",
       "      <th></th>\n",
       "      <th>FID</th>\n",
       "      <th>Index_</th>\n",
       "      <th>event_uniq</th>\n",
       "      <th>occurrence</th>\n",
       "      <th>reportedda</th>\n",
       "      <th>premisetyp</th>\n",
       "      <th>ucr_code</th>\n",
       "      <th>ucr_ext</th>\n",
       "      <th>offence</th>\n",
       "      <th>reportedye</th>\n",
       "      <th>...</th>\n",
       "      <th>occurren_6</th>\n",
       "      <th>MCI</th>\n",
       "      <th>Division</th>\n",
       "      <th>Hood_ID</th>\n",
       "      <th>Neighbourh</th>\n",
       "      <th>Lat</th>\n",
       "      <th>Long</th>\n",
       "      <th>ObjectId</th>\n",
       "      <th>Crimes</th>\n",
       "      <th>SHAPE</th>\n",
       "    </tr>\n",
       "  </thead>\n",
       "  <tbody>\n",
       "    <tr>\n",
       "      <th>0</th>\n",
       "      <td>1</td>\n",
       "      <td>16259</td>\n",
       "      <td>GO-201881815</td>\n",
       "      <td>2018-01-14T01:12:00.000Z</td>\n",
       "      <td>2018-01-14T01:12:00.000Z</td>\n",
       "      <td>Outside</td>\n",
       "      <td>1420</td>\n",
       "      <td>100</td>\n",
       "      <td>Assault With Weapon</td>\n",
       "      <td>2018</td>\n",
       "      <td>...</td>\n",
       "      <td>1</td>\n",
       "      <td>Assault</td>\n",
       "      <td>D51</td>\n",
       "      <td>75</td>\n",
       "      <td>Church-Yonge Corridor (75)</td>\n",
       "      <td>43.654957</td>\n",
       "      <td>-79.375877</td>\n",
       "      <td>15010</td>\n",
       "      <td>1</td>\n",
       "      <td>{\"x\": -8836082.253406385, \"y\": 5412200.2968903...</td>\n",
       "    </tr>\n",
       "    <tr>\n",
       "      <th>1</th>\n",
       "      <td>2</td>\n",
       "      <td>16260</td>\n",
       "      <td>GO-2018129259</td>\n",
       "      <td>2018-01-21T13:18:00.000Z</td>\n",
       "      <td>2018-01-21T13:25:00.000Z</td>\n",
       "      <td>Commercial</td>\n",
       "      <td>1610</td>\n",
       "      <td>210</td>\n",
       "      <td>Robbery - Business</td>\n",
       "      <td>2018</td>\n",
       "      <td>...</td>\n",
       "      <td>13</td>\n",
       "      <td>Robbery</td>\n",
       "      <td>D11</td>\n",
       "      <td>86</td>\n",
       "      <td>Roncesvalles (86)</td>\n",
       "      <td>43.640335</td>\n",
       "      <td>-79.43792</td>\n",
       "      <td>15011</td>\n",
       "      <td>1</td>\n",
       "      <td>{\"x\": -8842988.759516694, \"y\": 5409950.8713296...</td>\n",
       "    </tr>\n",
       "    <tr>\n",
       "      <th>2</th>\n",
       "      <td>3</td>\n",
       "      <td>16261</td>\n",
       "      <td>GO-2018134696</td>\n",
       "      <td>2018-01-21T15:00:00.000Z</td>\n",
       "      <td>2018-01-22T11:21:00.000Z</td>\n",
       "      <td>House</td>\n",
       "      <td>2120</td>\n",
       "      <td>200</td>\n",
       "      <td>B&amp;E</td>\n",
       "      <td>2018</td>\n",
       "      <td>...</td>\n",
       "      <td>15</td>\n",
       "      <td>Break and Enter</td>\n",
       "      <td>D42</td>\n",
       "      <td>132</td>\n",
       "      <td>Malvern (132)</td>\n",
       "      <td>43.802563</td>\n",
       "      <td>-79.232048</td>\n",
       "      <td>15012</td>\n",
       "      <td>1</td>\n",
       "      <td>{\"x\": -8820071.237892143, \"y\": 5434938.9707084...</td>\n",
       "    </tr>\n",
       "    <tr>\n",
       "      <th>3</th>\n",
       "      <td>4</td>\n",
       "      <td>16262</td>\n",
       "      <td>GO-2018178024</td>\n",
       "      <td>2018-01-29T00:59:00.000Z</td>\n",
       "      <td>2018-01-29T00:59:00.000Z</td>\n",
       "      <td>Commercial</td>\n",
       "      <td>2120</td>\n",
       "      <td>200</td>\n",
       "      <td>B&amp;E</td>\n",
       "      <td>2018</td>\n",
       "      <td>...</td>\n",
       "      <td>0</td>\n",
       "      <td>Break and Enter</td>\n",
       "      <td>D55</td>\n",
       "      <td>121</td>\n",
       "      <td>Oakridge (121)</td>\n",
       "      <td>43.691235</td>\n",
       "      <td>-79.288361</td>\n",
       "      <td>15013</td>\n",
       "      <td>1</td>\n",
       "      <td>{\"x\": -8826339.92778782, \"y\": 5417783.69801374...</td>\n",
       "    </tr>\n",
       "    <tr>\n",
       "      <th>4</th>\n",
       "      <td>5</td>\n",
       "      <td>16263</td>\n",
       "      <td>GO-2018178024</td>\n",
       "      <td>2018-01-29T00:59:00.000Z</td>\n",
       "      <td>2018-01-29T00:59:00.000Z</td>\n",
       "      <td>Commercial</td>\n",
       "      <td>1420</td>\n",
       "      <td>100</td>\n",
       "      <td>Assault With Weapon</td>\n",
       "      <td>2018</td>\n",
       "      <td>...</td>\n",
       "      <td>0</td>\n",
       "      <td>Assault</td>\n",
       "      <td>D55</td>\n",
       "      <td>121</td>\n",
       "      <td>Oakridge (121)</td>\n",
       "      <td>43.691235</td>\n",
       "      <td>-79.288361</td>\n",
       "      <td>15014</td>\n",
       "      <td>1</td>\n",
       "      <td>{\"x\": -8826339.92778782, \"y\": 5417783.69801374...</td>\n",
       "    </tr>\n",
       "    <tr>\n",
       "      <th>...</th>\n",
       "      <td>...</td>\n",
       "      <td>...</td>\n",
       "      <td>...</td>\n",
       "      <td>...</td>\n",
       "      <td>...</td>\n",
       "      <td>...</td>\n",
       "      <td>...</td>\n",
       "      <td>...</td>\n",
       "      <td>...</td>\n",
       "      <td>...</td>\n",
       "      <td>...</td>\n",
       "      <td>...</td>\n",
       "      <td>...</td>\n",
       "      <td>...</td>\n",
       "      <td>...</td>\n",
       "      <td>...</td>\n",
       "      <td>...</td>\n",
       "      <td>...</td>\n",
       "      <td>...</td>\n",
       "      <td>...</td>\n",
       "      <td>...</td>\n",
       "    </tr>\n",
       "    <tr>\n",
       "      <th>36298</th>\n",
       "      <td>36299</td>\n",
       "      <td>172717</td>\n",
       "      <td>GO-2018926482</td>\n",
       "      <td>2018-05-22T22:00:00.000Z</td>\n",
       "      <td>2018-05-23T08:55:00.000Z</td>\n",
       "      <td>Outside</td>\n",
       "      <td>2135</td>\n",
       "      <td>210</td>\n",
       "      <td>Theft Of Motor Vehicle</td>\n",
       "      <td>2018</td>\n",
       "      <td>...</td>\n",
       "      <td>22</td>\n",
       "      <td>Auto Theft</td>\n",
       "      <td>D12</td>\n",
       "      <td>111</td>\n",
       "      <td>Rockcliffe-Smythe (111)</td>\n",
       "      <td>43.672337</td>\n",
       "      <td>-79.495255</td>\n",
       "      <td>159934</td>\n",
       "      <td>1</td>\n",
       "      <td>{\"x\": -8849371.251410026, \"y\": 5414874.7456681...</td>\n",
       "    </tr>\n",
       "    <tr>\n",
       "      <th>36299</th>\n",
       "      <td>36300</td>\n",
       "      <td>172718</td>\n",
       "      <td>GO-2018517812</td>\n",
       "      <td>2018-03-21T18:00:00.000Z</td>\n",
       "      <td>2018-03-22T08:44:00.000Z</td>\n",
       "      <td>Outside</td>\n",
       "      <td>2135</td>\n",
       "      <td>210</td>\n",
       "      <td>Theft Of Motor Vehicle</td>\n",
       "      <td>2018</td>\n",
       "      <td>...</td>\n",
       "      <td>18</td>\n",
       "      <td>Auto Theft</td>\n",
       "      <td>D32</td>\n",
       "      <td>35</td>\n",
       "      <td>Westminster-Branson (35)</td>\n",
       "      <td>43.781944</td>\n",
       "      <td>-79.450424</td>\n",
       "      <td>159935</td>\n",
       "      <td>1</td>\n",
       "      <td>{\"x\": -8844380.765222078, \"y\": 5431759.3382555...</td>\n",
       "    </tr>\n",
       "    <tr>\n",
       "      <th>36300</th>\n",
       "      <td>36301</td>\n",
       "      <td>172719</td>\n",
       "      <td>GO-2018683950</td>\n",
       "      <td>2018-04-16T22:30:00.000Z</td>\n",
       "      <td>2018-04-17T07:58:00.000Z</td>\n",
       "      <td>Outside</td>\n",
       "      <td>2135</td>\n",
       "      <td>210</td>\n",
       "      <td>Theft Of Motor Vehicle</td>\n",
       "      <td>2018</td>\n",
       "      <td>...</td>\n",
       "      <td>22</td>\n",
       "      <td>Auto Theft</td>\n",
       "      <td>D32</td>\n",
       "      <td>39</td>\n",
       "      <td>Bedford Park-Nortown (39)</td>\n",
       "      <td>43.737354</td>\n",
       "      <td>-79.429192</td>\n",
       "      <td>159936</td>\n",
       "      <td>1</td>\n",
       "      <td>{\"x\": -8842017.163045857, \"y\": 5424886.7128086...</td>\n",
       "    </tr>\n",
       "    <tr>\n",
       "      <th>36301</th>\n",
       "      <td>36302</td>\n",
       "      <td>172720</td>\n",
       "      <td>GO-2018933022</td>\n",
       "      <td>2018-05-23T22:00:00.000Z</td>\n",
       "      <td>2018-05-24T07:26:00.000Z</td>\n",
       "      <td>Outside</td>\n",
       "      <td>2135</td>\n",
       "      <td>210</td>\n",
       "      <td>Theft Of Motor Vehicle</td>\n",
       "      <td>2018</td>\n",
       "      <td>...</td>\n",
       "      <td>22</td>\n",
       "      <td>Auto Theft</td>\n",
       "      <td>D13</td>\n",
       "      <td>102</td>\n",
       "      <td>Forest Hill North (102)</td>\n",
       "      <td>43.702938</td>\n",
       "      <td>-79.437836</td>\n",
       "      <td>159937</td>\n",
       "      <td>1</td>\n",
       "      <td>{\"x\": -8842979.41986125, \"y\": 5419585.66699644...</td>\n",
       "    </tr>\n",
       "    <tr>\n",
       "      <th>36302</th>\n",
       "      <td>36303</td>\n",
       "      <td>172721</td>\n",
       "      <td>GO-2018939788</td>\n",
       "      <td>2018-05-24T22:30:00.000Z</td>\n",
       "      <td>2018-05-25T06:18:00.000Z</td>\n",
       "      <td>Outside</td>\n",
       "      <td>2135</td>\n",
       "      <td>210</td>\n",
       "      <td>Theft Of Motor Vehicle</td>\n",
       "      <td>2018</td>\n",
       "      <td>...</td>\n",
       "      <td>22</td>\n",
       "      <td>Auto Theft</td>\n",
       "      <td>D23</td>\n",
       "      <td>3</td>\n",
       "      <td>Thistletown-Beaumond Heights (3)</td>\n",
       "      <td>43.742901</td>\n",
       "      <td>-79.571274</td>\n",
       "      <td>159938</td>\n",
       "      <td>1</td>\n",
       "      <td>{\"x\": -8857833.68122662, \"y\": 5425741.31216811...</td>\n",
       "    </tr>\n",
       "  </tbody>\n",
       "</table>\n",
       "<p>36303 rows × 30 columns</p>\n",
       "</div>"
      ],
      "text/plain": [
       "         FID  Index_     event_uniq                occurrence  \\\n",
       "0          1   16259   GO-201881815  2018-01-14T01:12:00.000Z   \n",
       "1          2   16260  GO-2018129259  2018-01-21T13:18:00.000Z   \n",
       "2          3   16261  GO-2018134696  2018-01-21T15:00:00.000Z   \n",
       "3          4   16262  GO-2018178024  2018-01-29T00:59:00.000Z   \n",
       "4          5   16263  GO-2018178024  2018-01-29T00:59:00.000Z   \n",
       "...      ...     ...            ...                       ...   \n",
       "36298  36299  172717  GO-2018926482  2018-05-22T22:00:00.000Z   \n",
       "36299  36300  172718  GO-2018517812  2018-03-21T18:00:00.000Z   \n",
       "36300  36301  172719  GO-2018683950  2018-04-16T22:30:00.000Z   \n",
       "36301  36302  172720  GO-2018933022  2018-05-23T22:00:00.000Z   \n",
       "36302  36303  172721  GO-2018939788  2018-05-24T22:30:00.000Z   \n",
       "\n",
       "                     reportedda  premisetyp  ucr_code  ucr_ext  \\\n",
       "0      2018-01-14T01:12:00.000Z     Outside      1420      100   \n",
       "1      2018-01-21T13:25:00.000Z  Commercial      1610      210   \n",
       "2      2018-01-22T11:21:00.000Z       House      2120      200   \n",
       "3      2018-01-29T00:59:00.000Z  Commercial      2120      200   \n",
       "4      2018-01-29T00:59:00.000Z  Commercial      1420      100   \n",
       "...                         ...         ...       ...      ...   \n",
       "36298  2018-05-23T08:55:00.000Z     Outside      2135      210   \n",
       "36299  2018-03-22T08:44:00.000Z     Outside      2135      210   \n",
       "36300  2018-04-17T07:58:00.000Z     Outside      2135      210   \n",
       "36301  2018-05-24T07:26:00.000Z     Outside      2135      210   \n",
       "36302  2018-05-25T06:18:00.000Z     Outside      2135      210   \n",
       "\n",
       "                      offence  reportedye  ... occurren_6              MCI  \\\n",
       "0         Assault With Weapon        2018  ...          1          Assault   \n",
       "1          Robbery - Business        2018  ...         13          Robbery   \n",
       "2                         B&E        2018  ...         15  Break and Enter   \n",
       "3                         B&E        2018  ...          0  Break and Enter   \n",
       "4         Assault With Weapon        2018  ...          0          Assault   \n",
       "...                       ...         ...  ...        ...              ...   \n",
       "36298  Theft Of Motor Vehicle        2018  ...         22       Auto Theft   \n",
       "36299  Theft Of Motor Vehicle        2018  ...         18       Auto Theft   \n",
       "36300  Theft Of Motor Vehicle        2018  ...         22       Auto Theft   \n",
       "36301  Theft Of Motor Vehicle        2018  ...         22       Auto Theft   \n",
       "36302  Theft Of Motor Vehicle        2018  ...         22       Auto Theft   \n",
       "\n",
       "       Division Hood_ID                        Neighbourh        Lat  \\\n",
       "0           D51      75        Church-Yonge Corridor (75)  43.654957   \n",
       "1           D11      86                 Roncesvalles (86)  43.640335   \n",
       "2           D42     132                     Malvern (132)  43.802563   \n",
       "3           D55     121                    Oakridge (121)  43.691235   \n",
       "4           D55     121                    Oakridge (121)  43.691235   \n",
       "...         ...     ...                               ...        ...   \n",
       "36298       D12     111           Rockcliffe-Smythe (111)  43.672337   \n",
       "36299       D32      35          Westminster-Branson (35)  43.781944   \n",
       "36300       D32      39         Bedford Park-Nortown (39)  43.737354   \n",
       "36301       D13     102           Forest Hill North (102)  43.702938   \n",
       "36302       D23       3  Thistletown-Beaumond Heights (3)  43.742901   \n",
       "\n",
       "            Long  ObjectId  Crimes  \\\n",
       "0     -79.375877     15010       1   \n",
       "1      -79.43792     15011       1   \n",
       "2     -79.232048     15012       1   \n",
       "3     -79.288361     15013       1   \n",
       "4     -79.288361     15014       1   \n",
       "...          ...       ...     ...   \n",
       "36298 -79.495255    159934       1   \n",
       "36299 -79.450424    159935       1   \n",
       "36300 -79.429192    159936       1   \n",
       "36301 -79.437836    159937       1   \n",
       "36302 -79.571274    159938       1   \n",
       "\n",
       "                                                   SHAPE  \n",
       "0      {\"x\": -8836082.253406385, \"y\": 5412200.2968903...  \n",
       "1      {\"x\": -8842988.759516694, \"y\": 5409950.8713296...  \n",
       "2      {\"x\": -8820071.237892143, \"y\": 5434938.9707084...  \n",
       "3      {\"x\": -8826339.92778782, \"y\": 5417783.69801374...  \n",
       "4      {\"x\": -8826339.92778782, \"y\": 5417783.69801374...  \n",
       "...                                                  ...  \n",
       "36298  {\"x\": -8849371.251410026, \"y\": 5414874.7456681...  \n",
       "36299  {\"x\": -8844380.765222078, \"y\": 5431759.3382555...  \n",
       "36300  {\"x\": -8842017.163045857, \"y\": 5424886.7128086...  \n",
       "36301  {\"x\": -8842979.41986125, \"y\": 5419585.66699644...  \n",
       "36302  {\"x\": -8857833.68122662, \"y\": 5425741.31216811...  \n",
       "\n",
       "[36303 rows x 30 columns]"
      ]
     },
     "execution_count": 138,
     "metadata": {},
     "output_type": "execute_result"
    }
   ],
   "source": [
    "crime_featureset.sdf"
   ]
  },
  {
   "cell_type": "code",
   "execution_count": 139,
   "id": "5185bd4c",
   "metadata": {},
   "outputs": [],
   "source": [
    "from arcgis.gis import GIS\n",
    "\n",
    "def connect_to_gis(client_id):\n",
    "    \"\"\"\n",
    "    Connect to the ArcGIS server and return the active GIS connection.\n",
    "    \"\"\"\n",
    "    try:\n",
    "        gis = GIS(\"https://utoronto.maps.arcgis.com\", client_id=client_id, verify_cert=False)\n",
    "        print(f\"Successfully logged in as: {gis.properties.user.username}\")\n",
    "        return gis\n",
    "    except Exception as e:\n",
    "        print(f\"Error connecting to GIS: {e}\")\n",
    "        return None"
   ]
  },
  {
   "cell_type": "code",
   "execution_count": 140,
   "id": "93682cee",
   "metadata": {},
   "outputs": [
    {
     "name": "stderr",
     "output_type": "stream",
     "text": [
      "Setting `verify_cert` to False is a security risk, use at your own risk.\n"
     ]
    },
    {
     "name": "stdout",
     "output_type": "stream",
     "text": [
      "Please sign in to your GIS and paste the code that is obtained below.\n",
      "If a web browser does not automatically open, please navigate to the URL below yourself instead.\n",
      "Opening web browser to navigate to: https://utoronto.maps.arcgis.com/sharing/rest/oauth2/authorize?response_type=code&client_id=fiqN9BkqCM152Bxl&redirect_uri=urn%3Aietf%3Awg%3Aoauth%3A2.0%3Aoob&state=GKDdhuSptpdxasNVNmfz2e8BvWlLBd&allow_verification=false\n",
      "Enter code obtained on signing in using SAML: ········\n",
      "Successfully logged in as: ehichio1_utoronto\n"
     ]
    }
   ],
   "source": [
    "gis_connection = connect_to_gis(client_id=\"fiqN9BkqCM152Bxl\")"
   ]
  },
  {
   "cell_type": "code",
   "execution_count": 141,
   "id": "a7200456",
   "metadata": {},
   "outputs": [],
   "source": [
    "def curate_data(item_list, keyword):\n",
    "    \"\"\"\n",
    "    Filters the list of items for a specific keyword and returns the relevant item.\n",
    "    :param item_list: List of items.\n",
    "    :param keyword: The keyword to search for.\n",
    "    :return: Relevant item.\n",
    "    \"\"\"\n",
    "    for item in item_list:\n",
    "        if keyword.lower() in item.title.lower():\n",
    "            return item\n",
    "    return None"
   ]
  },
  {
   "cell_type": "code",
   "execution_count": 142,
   "id": "7875f4df",
   "metadata": {},
   "outputs": [
    {
     "name": "stdout",
     "output_type": "stream",
     "text": [
      "[<Item title:\"Nigeria LGA Boundaries with Estimated Population and Total Vaccinations\" type:Feature Layer Collection owner:mgottfried_NBS_Nigeria>, <Item title:\"GRID3 Nigeria - Exposure Profile per Ward\" type:Feature Layer Collection owner:mgottfried_NBS_Nigeria>, <Item title:\"GRID3 NGA - Co-morbidities Risk Profile per Ward - copy\" type:Feature Layer Collection owner:Jannah0202>, <Item title:\"Nigeria\" type:Feature Layer Collection owner:j.o.fadamoro>, <Item title:\"COVID19 Nigeria\" type:Feature Layer Collection owner:Mansir_fa>, <Item title:\"NGA_State_Incidents_NCDC_Join\" type:Feature Layer Collection owner:VAISNL>, <Item title:\"COVID19\" type:Feature Layer Collection owner:nasrda2020>, <Item title:\"Pretesting Nigeria COVID-19 Vaccine KAPB_stakeholder\" type:Feature Layer Collection owner:er_archive>, <Item title:\"Health facilities access risk profile in Nigeria by state\" type:Feature Layer Collection owner:ob2243_columbia>, <Item title:\"Survey questions on impacts of COVID-19 to rice farmers in Vietnam and Nigeria._fieldworker\" type:Feature Layer Collection owner:Eebuka2>, <Item title:\"Nigeria_Cases\" type:Feature Layer Collection owner:anwuli.okwuashi_SLUSTL>, <Item title:\"Nigeria Suggested COVID19 Sites\" type:Feature Layer Collection owner:oborkovs_GRID>, <Item title:\"Nigeria - Total COVID-19 Risk per Ward\" type:Feature Layer Collection owner:de2448_GRID3>, <Item title:\"GRID3 Nigeria Social Distancing Layers, Version 1.0\" type:Feature Layer Collection owner:WorldPop_Soton>, <Item title:\"NGA_State_Incidents_09_04_2020\" type:Feature Layer Collection owner:VAISNL>, <Item title:\"Nigeria - Exposure Risk Score per State\" type:Feature Layer Collection owner:de2448_GRID3>, <Item title:\"COVID_19_Response_Data\" type:Feature Layer Collection owner:roland.olusola>, <Item title:\"GRID3 Nigeria - Exposure Risk Profile by State\" type:Feature Layer Collection owner:mgottfried_NBS_Nigeria>, <Item title:\"GRID3 Nigeria - Health Facilities Access Risk Profile by State\" type:Feature Layer Collection owner:mgottfried_NBS_Nigeria>, <Item title:\"GRID3 Nigeria - Co-morbidities Risk Profile by LGA\" type:Feature Layer Collection owner:mgottfried_NBS_Nigeria>, <Item title:\"GRID3 Nigeria - Health Facilities Access Risk Profile by LGA\" type:Feature Layer Collection owner:mgottfried_NBS_Nigeria>, <Item title:\"COVID_STATS_UPDATES - DEATHS\" type:Feature Layer Collection owner:VAISNL>, <Item title:\"GRID3 NGA - Health Facilities Access Risk Profile per Ward - copy\" type:Feature Layer Collection owner:Jannah0202>, <Item title:\"Map\" type:Feature Layer Collection owner:ekebsir>, <Item title:\"COVID_19_Cases_by_State_Join\" type:Feature Layer Collection owner:lolatalabioni_NBS_Nigeria>, <Item title:\"Hot_Spots_Population\" type:Feature Layer Collection owner:fatayoopeyemi_GIS>, <Item title:\"nig_corona feature layer\" type:Feature Layer Collection owner:s294907>, <Item title:\"AksLGA\" type:Feature Layer Collection owner:precise_gis>, <Item title:\"NIGERIA NCDC COVID19 DATA\" type:Feature Layer Collection owner:minusmagiseditor>, <Item title:\"Nigeria COVID 19 Suspected Cases Report Form\" type:Feature Layer Collection owner:sgnl_agol>, <Item title:\"Nigeria Coronavirus_WFL1\" type:Feature Layer Collection owner:s.okorie.19_abdn8>, <Item title:\"Nigeria - Total COVID Risk per LGA\" type:Feature Layer Collection owner:de2448_GRID3>, <Item title:\"Nigeria - Comorbidities Risk Score per Ward\" type:Feature Layer Collection owner:de2448_GRID3>, <Item title:\"Nigeria - Mobility changes (transit stations)\" type:Feature Layer Collection owner:de2448_GRID3>, <Item title:\"GRID3 Nigeria - Health Facilities Access Risk Profile by Ward\" type:Feature Layer Collection owner:mgottfried_NBS_Nigeria>, <Item title:\"New Covid19_Nigeria\" type:Feature Layer Collection owner:TrailblazerGlobalConcept>, <Item title:\"Testing Facilities NG (COVID19)\" type:Feature Layer Collection owner:Jannah0202>, <Item title:\"Covid-19 Preliminary Investigation Survey in Nigeria._fieldworker\" type:Feature Layer Collection owner:lucavson>, <Item title:\"Nigeria_covid19_recovered\" type:Feature Layer Collection owner:anwuli.okwuashi_SLUSTL>, <Item title:\"Nigeria_Cases1\" type:Feature Layer Collection owner:anwuli.okwuashi_SLUSTL>, <Item title:\"COVID_19_Hot_and_Cold_Spots\" type:Feature Layer Collection owner:fatayoopeyemi_GIS>, <Item title:\"Buffer of Covid-19 Death in Nigeria\" type:Feature Layer Collection owner:auwal.ahmed_680>, <Item title:\"COVID_19_TEST_WFL1\" type:Feature Layer Collection owner:GSDA@1983>, <Item title:\"Códigos Postales 2020. Extracto\" type:Feature Layer Collection owner:EsriEspanaContenidos>, <Item title:\"Nigeria COVID-19 Vaccine KAPB Round-3_stakeholder\" type:Feature Layer Collection owner:er_archive>, <Item title:\"Nigeria - Mobility changes (parks)\" type:Feature Layer Collection owner:de2448_GRID3>, <Item title:\"NG Covid19\" type:Feature Layer Collection owner:Jannah0202>, <Item title:\"Covid19_Nigeria\" type:Feature Layer Collection owner:TrailblazerGlobalConcept>, <Item title:\"COVID_19 NIGERIA\" type:Feature Layer Collection owner:topemakinde.tm>, <Item title:\"GRID3 Nigeria - Exposure Profile per LGA\" type:Feature Layer Collection owner:mgottfried_NBS_Nigeria>]\n"
     ]
    }
   ],
   "source": [
    "items = gis.content.search('Nigeria COVID-19', 'feature layer', outside_org=True , max_items=50)\n",
    "print(items)"
   ]
  },
  {
   "cell_type": "code",
   "execution_count": 143,
   "id": "9e158d89",
   "metadata": {},
   "outputs": [
    {
     "name": "stdout",
     "output_type": "stream",
     "text": [
      "id\n",
      "owner\n",
      "created\n",
      "modified\n",
      "guid\n",
      "name\n",
      "title\n",
      "type\n",
      "typeKeywords\n",
      "description\n",
      "tags\n",
      "snippet\n",
      "thumbnail\n",
      "documentation\n",
      "extent\n",
      "categories\n",
      "spatialReference\n",
      "accessInformation\n",
      "licenseInfo\n",
      "culture\n",
      "properties\n",
      "advancedSettings\n",
      "url\n",
      "proxyFilter\n",
      "access\n",
      "subInfo\n",
      "appCategories\n",
      "industries\n",
      "languages\n",
      "largeThumbnail\n",
      "banner\n",
      "screenshots\n",
      "listed\n",
      "numComments\n",
      "numRatings\n",
      "avgRating\n",
      "numViews\n",
      "scoreCompleteness\n",
      "groupDesignations\n",
      "tokenExpirationDate\n",
      "contentOrigin\n",
      "lastViewed\n",
      "layers\n",
      "tables\n"
     ]
    }
   ],
   "source": [
    "nigeria_covid_data = curate_data(items, 'COVID-19')\n",
    "for item in nigeria_covid_data:\n",
    "    print(item)"
   ]
  },
  {
   "cell_type": "code",
   "execution_count": 144,
   "id": "f7d7b4e4",
   "metadata": {},
   "outputs": [],
   "source": [
    "def curate_data(keyword, item_type='feature layer', max_items=50):\n",
    "    \"\"\"\n",
    "    Curates the data by filtering out specific items based on a keyword.\n",
    "    \n",
    "    :param keyword: The keyword to search for.\n",
    "    :param item_type: Type of the items to search for.\n",
    "    :param max_items: Maximum number of items to return.\n",
    "    \n",
    "    :return: List of curated items.\n",
    "    \"\"\"\n",
    "    items = gis.content.search(keyword, item_type, max_items=max_items)\n",
    "    return items\n",
    "#outside_org=True,"
   ]
  },
  {
   "cell_type": "code",
   "execution_count": 146,
   "id": "3cedf5f7",
   "metadata": {},
   "outputs": [
    {
     "name": "stdout",
     "output_type": "stream",
     "text": [
      "Enter the search keyword: covid\n",
      "[0] CA_Farms HuayiL\n",
      "[1] Enriched_Enriched_Toronto_neighbourhoods_COVID\n",
      "[2] Northlander20200915\n",
      "[3] Summarize_Hospitals_in_Toronto_COVID_19_Vulnerability\n",
      "[4] COVID 19 Rates by Neighbourhood\n",
      "[5] 20200813_Northlander\n",
      "[6] MXdrft_CV19_202009\n",
      "[7] Social Distancing Experiences - Able Heart Map\n",
      "[8] Enriched - Toronto Neighbourhood COVID19 Vulnerability\n",
      "[9] COVID19 Social Distancing Experiences\n",
      "[10] Community Resources\n",
      "[11] covid19canada\n",
      "[12] Aggregation_of_Senior_Living_Sites_to_Toronto_COVID_19_Vulnerability\n",
      "[13] covid19\n",
      "[14] Toronto COVID-19 Vulnerability\n",
      "[15] ReConnect\n",
      "[16] Toronto Neighbourhood COVID19 Vulnerability\n",
      "[17] TianZeJia_322_final_WFL1\n",
      "[18] COVID_19_BREAKOUT_NEIGHBORHOODS_WFL1\n",
      "[19] Buffer_of_covid_19_immunization_clinics\n",
      "[20] covid19_prediction_all_sorted_2\n",
      "[21] covid19_prediction_all\n",
      "[22] LOS and COVID\n",
      "[23] Summarize_COVID_19_Vulnerability_in_Hospitals2\n",
      "[24] PreVSPostCOVID\n",
      "[25] Hybrid Split_Blue side 20200623\n",
      "[26] covid19_prediction_all_sorted\n",
      "[27] Covid 19 Cases in NB by Health Regions_WFL1\n",
      "[28] Hospitals\n",
      "[29] Polygon_Mapping Social Distancing\n",
      "[30] Covid_19 Peel region_WFL1\n",
      "[31] Social Distancing Experiences - Not Able Heat Map\n",
      "[32] Enriched_Toronto_neighbourhoods_COVID\n",
      "[33] Summarize_Toronto_COVID_19_Vulnerability_in_Hospitals\n",
      "[34] Covid Vax Densities_WFL1\n",
      "[35] Confirmed positive COVID19 cases\n",
      "[36] covid_19_immunization_clinics_BETTER\n"
     ]
    }
   ],
   "source": [
    "# Usage\n",
    "keyword = input(\"Enter the search keyword: \")\n",
    "curated_items = curate_data(keyword)\n",
    "\n",
    "# Displaying the items\n",
    "for idx, item in enumerate(curated_items):\n",
    "    print(f\"[{idx}] {item.title}\")\n"
   ]
  },
  {
   "cell_type": "code",
   "execution_count": 147,
   "id": "b29de149",
   "metadata": {},
   "outputs": [],
   "source": [
    "def process_selected_item(curated_items):\n",
    "    \"\"\"\n",
    "    Allows the user to select an item from the curated list and processes it.\n",
    "    \n",
    "    :param curated_items: List of curated items.\n",
    "    \n",
    "    :return: Processed details of the selected item or a specific operation on the item.\n",
    "    \"\"\"\n",
    "    # Ask the user to select an item by its index\n",
    "    try:\n",
    "        index = int(input(f\"Enter the index of the item you want to process (0-{len(curated_items)-1}): \"))\n",
    "        selected_item = curated_items[index]\n",
    "        \n",
    "        # Here, you can retrieve and process details about the selected item as per your requirements.\n",
    "        # For demonstration purposes, we will simply return some properties of the selected item.\n",
    "        item_details = {\n",
    "            \"title\": selected_item.title,\n",
    "            \"description\": selected_item.description,\n",
    "            \"item_type\": selected_item.type,\n",
    "            \"url\": selected_item.url,\n",
    "            # Add more properties or processing steps as required\n",
    "        }\n",
    "        return item_details\n",
    "        \n",
    "    except (ValueError, IndexError):\n",
    "        print(\"Invalid index. Please enter a valid index from the displayed list.\")\n",
    "        return None\n"
   ]
  },
  {
   "cell_type": "code",
   "execution_count": 148,
   "id": "ba28c863",
   "metadata": {},
   "outputs": [
    {
     "name": "stdout",
     "output_type": "stream",
     "text": [
      "Enter the index of the item you want to process (0-36): 25\n",
      "title: Hybrid Split_Blue side 20200623\n",
      "description: None\n",
      "item_type: Feature Service\n",
      "url: https://services1.arcgis.com/9NvE8jKNWWlDGsUJ/arcgis/rest/services/service_cca4f0f32f604580a23385357d38693f/FeatureServer\n"
     ]
    }
   ],
   "source": [
    "# Usage\n",
    "selected_item_details = process_selected_item(curated_items)\n",
    "\n",
    "# Displaying the details of the selected item\n",
    "if selected_item_details:\n",
    "    for key, value in selected_item_details.items():\n",
    "        print(f\"{key}: {value}\")\n"
   ]
  },
  {
   "cell_type": "code",
   "execution_count": 120,
   "id": "03ffa9b5",
   "metadata": {},
   "outputs": [],
   "source": [
    "import pandas as pd\n",
    "from arcgis.features import FeatureLayer\n",
    "\n",
    "def join_csv_with_gis_data(feature_layer_url, csv_filepath):\n",
    "    \n",
    "    def load_csv_data(filepath):\n",
    "        \"\"\"Inner function to load data from a CSV file into a DataFrame\"\"\"\n",
    "        return pd.read_csv(filepath)\n",
    "\n",
    "    def get_gis_data(url):\n",
    "        \"\"\"Inner function to fetch data from a given feature layer URL and return as a DataFrame\"\"\"\n",
    "        feature_layer = FeatureLayer(url)\n",
    "        query_result = feature_layer.query()\n",
    "        \n",
    "        # Check if the result has a Spatial DataFrame attribute\n",
    "        if hasattr(query_result, 'sdf'):\n",
    "            return query_result.sdf\n",
    "        else:\n",
    "            return pd.DataFrame()\n",
    "\n",
    "    # Load data\n",
    "    csv_data = load_csv_data(csv_filepath)\n",
    "    gis_data = get_gis_data(feature_layer_url)\n",
    "    \n",
    "    # Check if the GIS data is empty and inform the user\n",
    "    if gis_data.empty:\n",
    "        raise ValueError(\"The GIS data fetched is empty. Please check the feature layer URL.\")\n",
    "    \n",
    "    # Check for missing columns before attempting merge\n",
    "    required_gis_columns = ['country', 'latitude_field', 'longitude_field']\n",
    "    required_csv_columns = ['country', 'lat', 'long']\n",
    "\n",
    "    missing_gis_columns = [col for col in required_gis_columns if col not in gis_data.columns]\n",
    "    missing_csv_columns = [col for col in required_csv_columns if col not in csv_data.columns]\n",
    "\n",
    "    if missing_gis_columns:\n",
    "        raise ValueError(f\"The GIS data is missing the following columns: {', '.join(missing_gis_columns)}\")\n",
    "\n",
    "    if missing_csv_columns:\n",
    "        raise ValueError(f\"The CSV data is missing the following columns: {', '.join(missing_csv_columns)}\")\n",
    "        \n",
    "     # Check if the GIS data is empty and inform the user\n",
    "    if gis_data.empty:\n",
    "        print(\"GIS data could not be retrieved. Please check the feature layer URL.\")\n",
    "        return None\n",
    "    \n",
    "    # Merge data\n",
    "    joined_data = gis_data.merge(csv_data, \n",
    "                                 left_on=required_gis_columns, \n",
    "                                 right_on=required_csv_columns,\n",
    "                                 how='left')\n",
    "    \n",
    "    return joined_data\n",
    "\n"
   ]
  },
  {
   "cell_type": "code",
   "execution_count": 119,
   "id": "c3000b53",
   "metadata": {},
   "outputs": [
    {
     "ename": "KeyError",
     "evalue": "'count'",
     "output_type": "error",
     "traceback": [
      "\u001b[1;31m---------------------------------------------------------------------------\u001b[0m",
      "\u001b[1;31mKeyError\u001b[0m                                  Traceback (most recent call last)",
      "Cell \u001b[1;32mIn[119], line 2\u001b[0m\n\u001b[0;32m      1\u001b[0m \u001b[38;5;66;03m# Usage\u001b[39;00m\n\u001b[1;32m----> 2\u001b[0m joined_data \u001b[38;5;241m=\u001b[39m \u001b[43mjoin_csv_with_gis_data\u001b[49m\u001b[43m(\u001b[49m\u001b[38;5;124;43m'\u001b[39;49m\u001b[38;5;124;43mhttps://services1.arcgis.com//9NvE8jKNWWlDGsUJ//arcgis//rest//services//covid19canada//FeatureServer\u001b[39;49m\u001b[38;5;124;43m'\u001b[39;49m\u001b[43m,\u001b[49m\u001b[43m \u001b[49m\u001b[38;5;124;43m'\u001b[39;49m\u001b[38;5;124;43mC:\u001b[39;49m\u001b[38;5;130;43;01m\\\\\u001b[39;49;00m\u001b[38;5;124;43mUsers\u001b[39;49m\u001b[38;5;130;43;01m\\\\\u001b[39;49;00m\u001b[38;5;124;43mehich\u001b[39;49m\u001b[38;5;130;43;01m\\\\\u001b[39;49;00m\u001b[38;5;124;43mDownloads\u001b[39;49m\u001b[38;5;130;43;01m\\\\\u001b[39;49;00m\u001b[38;5;124;43mWorld Covid data.csv\u001b[39;49m\u001b[38;5;124;43m'\u001b[39;49m\u001b[43m)\u001b[49m\n\u001b[0;32m      3\u001b[0m \u001b[38;5;28mprint\u001b[39m(joined_data)\n",
      "Cell \u001b[1;32mIn[117], line 23\u001b[0m, in \u001b[0;36mjoin_csv_with_gis_data\u001b[1;34m(feature_layer_url, csv_filepath)\u001b[0m\n\u001b[0;32m     21\u001b[0m \u001b[38;5;66;03m# Load data\u001b[39;00m\n\u001b[0;32m     22\u001b[0m csv_data \u001b[38;5;241m=\u001b[39m load_csv_data(csv_filepath)\n\u001b[1;32m---> 23\u001b[0m gis_data \u001b[38;5;241m=\u001b[39m \u001b[43mget_gis_data\u001b[49m\u001b[43m(\u001b[49m\u001b[43mfeature_layer_url\u001b[49m\u001b[43m)\u001b[49m\n\u001b[0;32m     25\u001b[0m \u001b[38;5;66;03m# Check if the GIS data is empty and inform the user\u001b[39;00m\n\u001b[0;32m     26\u001b[0m \u001b[38;5;28;01mif\u001b[39;00m gis_data\u001b[38;5;241m.\u001b[39mempty:\n",
      "Cell \u001b[1;32mIn[117], line 13\u001b[0m, in \u001b[0;36mjoin_csv_with_gis_data.<locals>.get_gis_data\u001b[1;34m(url)\u001b[0m\n\u001b[0;32m     11\u001b[0m \u001b[38;5;250m\u001b[39m\u001b[38;5;124;03m\"\"\"Inner function to fetch data from a given feature layer URL and return as a DataFrame\"\"\"\u001b[39;00m\n\u001b[0;32m     12\u001b[0m feature_layer \u001b[38;5;241m=\u001b[39m FeatureLayer(url)\n\u001b[1;32m---> 13\u001b[0m query_result \u001b[38;5;241m=\u001b[39m \u001b[43mfeature_layer\u001b[49m\u001b[38;5;241;43m.\u001b[39;49m\u001b[43mquery\u001b[49m\u001b[43m(\u001b[49m\u001b[43m)\u001b[49m\n\u001b[0;32m     15\u001b[0m \u001b[38;5;66;03m# Check if the result has a Spatial DataFrame attribute\u001b[39;00m\n\u001b[0;32m     16\u001b[0m \u001b[38;5;28;01mif\u001b[39;00m \u001b[38;5;28mhasattr\u001b[39m(query_result, \u001b[38;5;124m'\u001b[39m\u001b[38;5;124msdf\u001b[39m\u001b[38;5;124m'\u001b[39m):\n",
      "File \u001b[1;32m~\\anaconda3\\lib\\site-packages\\arcgis\\features\\layer.py:2272\u001b[0m, in \u001b[0;36mFeatureLayer.query\u001b[1;34m(self, where, out_fields, time_filter, geometry_filter, return_geometry, return_count_only, return_ids_only, return_distinct_values, return_extent_only, group_by_fields_for_statistics, statistic_filter, result_offset, result_record_count, object_ids, distance, units, max_allowable_offset, out_sr, geometry_precision, gdb_version, order_by_fields, out_statistics, return_z, return_m, multipatch_option, quantization_parameters, return_centroid, return_all_records, result_type, historic_moment, sql_format, return_true_curves, return_exceeded_limit_features, as_df, datum_transformation, **kwargs)\u001b[0m\n\u001b[0;32m   2270\u001b[0m     \u001b[38;5;28;01mif\u001b[39;00m \u001b[38;5;124m\"\u001b[39m\u001b[38;5;124mobjectIdField\u001b[39m\u001b[38;5;124m\"\u001b[39m \u001b[38;5;129;01min\u001b[39;00m \u001b[38;5;28mself\u001b[39m\u001b[38;5;241m.\u001b[39mproperties:\n\u001b[0;32m   2271\u001b[0m         params[\u001b[38;5;124m\"\u001b[39m\u001b[38;5;124mwhere\u001b[39m\u001b[38;5;124m\"\u001b[39m] \u001b[38;5;241m=\u001b[39m \u001b[38;5;124mf\u001b[39m\u001b[38;5;124m\"\u001b[39m\u001b[38;5;132;01m{\u001b[39;00m\u001b[38;5;28mself\u001b[39m\u001b[38;5;241m.\u001b[39mproperties\u001b[38;5;241m.\u001b[39mobjectIdField\u001b[38;5;132;01m}\u001b[39;00m\u001b[38;5;124m > 0\u001b[39m\u001b[38;5;124m\"\u001b[39m\n\u001b[1;32m-> 2272\u001b[0m     record_count \u001b[38;5;241m=\u001b[39m \u001b[38;5;28;43mself\u001b[39;49m\u001b[38;5;241;43m.\u001b[39;49m\u001b[43m_query\u001b[49m\u001b[43m(\u001b[49m\u001b[43murl\u001b[49m\u001b[43m,\u001b[49m\u001b[43m \u001b[49m\u001b[43mparams\u001b[49m\u001b[43m,\u001b[49m\u001b[43m \u001b[49m\u001b[43mraw\u001b[49m\u001b[38;5;241;43m=\u001b[39;49m\u001b[43mas_raw\u001b[49m\u001b[43m)\u001b[49m\n\u001b[0;32m   2273\u001b[0m     params[\u001b[38;5;124m\"\u001b[39m\u001b[38;5;124mwhere\u001b[39m\u001b[38;5;124m\"\u001b[39m] \u001b[38;5;241m=\u001b[39m \u001b[38;5;124m\"\u001b[39m\u001b[38;5;124m1=1\u001b[39m\u001b[38;5;124m\"\u001b[39m\n\u001b[0;32m   2274\u001b[0m \u001b[38;5;28;01melse\u001b[39;00m:\n",
      "File \u001b[1;32m~\\anaconda3\\lib\\site-packages\\arcgis\\features\\layer.py:3686\u001b[0m, in \u001b[0;36mFeatureLayer._query\u001b[1;34m(self, url, params, raw, **kwargs)\u001b[0m\n\u001b[0;32m   3684\u001b[0m     \u001b[38;5;28;01mraise\u001b[39;00m \u001b[38;5;167;01mValueError\u001b[39;00m(result)\n\u001b[0;32m   3685\u001b[0m \u001b[38;5;28;01mif\u001b[39;00m \u001b[38;5;124m\"\u001b[39m\u001b[38;5;124mreturnCountOnly\u001b[39m\u001b[38;5;124m\"\u001b[39m \u001b[38;5;129;01min\u001b[39;00m params \u001b[38;5;129;01mand\u001b[39;00m is_true(params[\u001b[38;5;124m\"\u001b[39m\u001b[38;5;124mreturnCountOnly\u001b[39m\u001b[38;5;124m\"\u001b[39m]):\n\u001b[1;32m-> 3686\u001b[0m     \u001b[38;5;28;01mreturn\u001b[39;00m \u001b[43mresult\u001b[49m\u001b[43m[\u001b[49m\u001b[38;5;124;43m\"\u001b[39;49m\u001b[38;5;124;43mcount\u001b[39;49m\u001b[38;5;124;43m\"\u001b[39;49m\u001b[43m]\u001b[49m\n\u001b[0;32m   3687\u001b[0m \u001b[38;5;28;01melif\u001b[39;00m \u001b[38;5;124m\"\u001b[39m\u001b[38;5;124mreturnIdsOnly\u001b[39m\u001b[38;5;124m\"\u001b[39m \u001b[38;5;129;01min\u001b[39;00m params \u001b[38;5;129;01mand\u001b[39;00m is_true(params[\u001b[38;5;124m\"\u001b[39m\u001b[38;5;124mreturnIdsOnly\u001b[39m\u001b[38;5;124m\"\u001b[39m]):\n\u001b[0;32m   3688\u001b[0m     \u001b[38;5;28;01mreturn\u001b[39;00m result\n",
      "\u001b[1;31mKeyError\u001b[0m: 'count'"
     ]
    }
   ],
   "source": [
    "# Usage\n",
    "joined_data = join_csv_with_gis_data('https://services1.arcgis.com//9NvE8jKNWWlDGsUJ//arcgis//rest//services//covid19canada//FeatureServer', 'C:\\\\Users\\\\ehich\\\\Downloads\\\\World Covid data.csv')\n",
    "print(joined_data)\n"
   ]
  },
  {
   "cell_type": "code",
   "execution_count": null,
   "id": "40bd9a46",
   "metadata": {},
   "outputs": [],
   "source": [
    "Nigerian_states = curated_items[19]\n",
    "Nigerian_states_featurelayer = Nigerian_states.layers[0]\n",
    "Nigerian_states_featureset = Nigerian_states_featurelayer.query()\n",
    "print(Nigerian_states_featureset.geometry_type)\n",
    "Nigerian_states_featureset.sdf"
   ]
  }
 ],
 "metadata": {
  "kernelspec": {
   "display_name": "Python 3 (ipykernel)",
   "language": "python",
   "name": "python3"
  },
  "language_info": {
   "codemirror_mode": {
    "name": "ipython",
    "version": 3
   },
   "file_extension": ".py",
   "mimetype": "text/x-python",
   "name": "python",
   "nbconvert_exporter": "python",
   "pygments_lexer": "ipython3",
   "version": "3.10.12"
  }
 },
 "nbformat": 4,
 "nbformat_minor": 5
}
